{
  "cells": [
    {
      "cell_type": "markdown",
      "id": "575974f9",
      "metadata": {
        "id": "575974f9"
      },
      "source": [
        "# Table of Contents\n",
        "- ### [Environment Setup](#env)\n",
        "- ### [Data Preparation and Transformation](#prep)\n",
        "- ### [Exploratory Data Analysis](#anly)\n",
        "  - #### [Variable Distribution](#vard)\n",
        "  - #### [Predictor and Response Variable Relation](#varr)\n",
        "  - #### [Variable Correlation](#varc)\n",
        "  - #### [Outlier Analysis](#outl)\n",
        "- ### [Linear Regression](#reg)\n",
        "  - #### [Single Predictor](#sinp)\n",
        "  - #### [Multiple Predictors](#mulp)\n",
        "  - #### [Multiple Predictor with an Interaction Term](#mpi)\n",
        "- ### [Summary](#sumy)"
      ]
    },
    {
      "cell_type": "markdown",
      "id": "5571c168",
      "metadata": {
        "id": "5571c168"
      },
      "source": [
        "<a id=\"env\"></a>\n",
        "# Environment Setup\n",
        "\n",
        "This notebook is written in the following environment:\n",
        "\n",
        "- macOS Monterey 12.4\n",
        "- Jupyter notebook server version 6.4.5\n",
        "- Python 3.9.7\n",
        "\n",
        "The following Python libraries are used:\n",
        "- `pandas`: 1.3.4\n",
        "- `numpy`: 1.20.3\n",
        "- `scikit-learn`: 0.24.2\n",
        "- `statsmodels`: 0.12.2\n",
        "- `matplotlib`: 3.4.3\n",
        "- `scipy`: 1.7.1 \n",
        "- `seaborn`: 0.11.2"
      ]
    },
    {
      "cell_type": "code",
      "execution_count": 110,
      "id": "8265100e",
      "metadata": {
        "id": "8265100e"
      },
      "outputs": [],
      "source": [
        "import pandas as pd\n",
        "import numpy as np\n",
        "from sklearn import linear_model\n",
        "from sklearn.metrics import r2_score\n",
        "from sklearn.model_selection import train_test_split\n",
        "import statsmodels.api as sm\n",
        "from matplotlib import pyplot as plt\n",
        "from scipy.optimize import curve_fit\n",
        "import seaborn as sns\n",
        "import warnings\n",
        "warnings.filterwarnings('ignore')"
      ]
    },
    {
      "cell_type": "markdown",
      "source": [
        "<a id=\"prep\"></a>\n",
        "# Data Preparation and Transformation\n",
        "\n",
        "First, let's read the dataset from the file \"data.txt\" which should be in the same directory as this notebook.\n",
        "\n",
        "Note that I used a special encoding when reading the file because the file encoding is not compatible with the default encoding of my environment."
      ],
      "metadata": {
        "id": "qbNaJuKfRZS3"
      },
      "id": "qbNaJuKfRZS3"
    },
    {
      "cell_type": "code",
      "execution_count": 111,
      "id": "bd1b4ac4",
      "metadata": {
        "id": "bd1b4ac4"
      },
      "outputs": [],
      "source": [
        "input_df = pd.read_csv(\"data.txt\", sep = \"|\", encoding='iso-8859-1')"
      ]
    },
    {
      "cell_type": "code",
      "execution_count": 112,
      "id": "49ae9ddd",
      "metadata": {
        "colab": {
          "base_uri": "https://localhost:8080/",
          "height": 206
        },
        "id": "49ae9ddd",
        "outputId": "995755ed-0049-4af4-8909-7c083285e59c"
      },
      "outputs": [
        {
          "output_type": "execute_result",
          "data": {
            "text/plain": [
              "   variable value\n",
              "0  0    score    65\n",
              "1  1    score    98\n",
              "2  2    score    85\n",
              "3  3    score    83\n",
              "4  4    score   115"
            ],
            "text/html": [
              "\n",
              "  <div id=\"df-6335cc9e-4a62-40f4-8601-bc713df2d911\">\n",
              "    <div class=\"colab-df-container\">\n",
              "      <div>\n",
              "<style scoped>\n",
              "    .dataframe tbody tr th:only-of-type {\n",
              "        vertical-align: middle;\n",
              "    }\n",
              "\n",
              "    .dataframe tbody tr th {\n",
              "        vertical-align: top;\n",
              "    }\n",
              "\n",
              "    .dataframe thead th {\n",
              "        text-align: right;\n",
              "    }\n",
              "</style>\n",
              "<table border=\"1\" class=\"dataframe\">\n",
              "  <thead>\n",
              "    <tr style=\"text-align: right;\">\n",
              "      <th></th>\n",
              "      <th></th>\n",
              "      <th>variable</th>\n",
              "      <th>value</th>\n",
              "    </tr>\n",
              "  </thead>\n",
              "  <tbody>\n",
              "    <tr>\n",
              "      <th>0</th>\n",
              "      <td>0</td>\n",
              "      <td>score</td>\n",
              "      <td>65</td>\n",
              "    </tr>\n",
              "    <tr>\n",
              "      <th>1</th>\n",
              "      <td>1</td>\n",
              "      <td>score</td>\n",
              "      <td>98</td>\n",
              "    </tr>\n",
              "    <tr>\n",
              "      <th>2</th>\n",
              "      <td>2</td>\n",
              "      <td>score</td>\n",
              "      <td>85</td>\n",
              "    </tr>\n",
              "    <tr>\n",
              "      <th>3</th>\n",
              "      <td>3</td>\n",
              "      <td>score</td>\n",
              "      <td>83</td>\n",
              "    </tr>\n",
              "    <tr>\n",
              "      <th>4</th>\n",
              "      <td>4</td>\n",
              "      <td>score</td>\n",
              "      <td>115</td>\n",
              "    </tr>\n",
              "  </tbody>\n",
              "</table>\n",
              "</div>\n",
              "      <button class=\"colab-df-convert\" onclick=\"convertToInteractive('df-6335cc9e-4a62-40f4-8601-bc713df2d911')\"\n",
              "              title=\"Convert this dataframe to an interactive table.\"\n",
              "              style=\"display:none;\">\n",
              "        \n",
              "  <svg xmlns=\"http://www.w3.org/2000/svg\" height=\"24px\"viewBox=\"0 0 24 24\"\n",
              "       width=\"24px\">\n",
              "    <path d=\"M0 0h24v24H0V0z\" fill=\"none\"/>\n",
              "    <path d=\"M18.56 5.44l.94 2.06.94-2.06 2.06-.94-2.06-.94-.94-2.06-.94 2.06-2.06.94zm-11 1L8.5 8.5l.94-2.06 2.06-.94-2.06-.94L8.5 2.5l-.94 2.06-2.06.94zm10 10l.94 2.06.94-2.06 2.06-.94-2.06-.94-.94-2.06-.94 2.06-2.06.94z\"/><path d=\"M17.41 7.96l-1.37-1.37c-.4-.4-.92-.59-1.43-.59-.52 0-1.04.2-1.43.59L10.3 9.45l-7.72 7.72c-.78.78-.78 2.05 0 2.83L4 21.41c.39.39.9.59 1.41.59.51 0 1.02-.2 1.41-.59l7.78-7.78 2.81-2.81c.8-.78.8-2.07 0-2.86zM5.41 20L4 18.59l7.72-7.72 1.47 1.35L5.41 20z\"/>\n",
              "  </svg>\n",
              "      </button>\n",
              "      \n",
              "  <style>\n",
              "    .colab-df-container {\n",
              "      display:flex;\n",
              "      flex-wrap:wrap;\n",
              "      gap: 12px;\n",
              "    }\n",
              "\n",
              "    .colab-df-convert {\n",
              "      background-color: #E8F0FE;\n",
              "      border: none;\n",
              "      border-radius: 50%;\n",
              "      cursor: pointer;\n",
              "      display: none;\n",
              "      fill: #1967D2;\n",
              "      height: 32px;\n",
              "      padding: 0 0 0 0;\n",
              "      width: 32px;\n",
              "    }\n",
              "\n",
              "    .colab-df-convert:hover {\n",
              "      background-color: #E2EBFA;\n",
              "      box-shadow: 0px 1px 2px rgba(60, 64, 67, 0.3), 0px 1px 3px 1px rgba(60, 64, 67, 0.15);\n",
              "      fill: #174EA6;\n",
              "    }\n",
              "\n",
              "    [theme=dark] .colab-df-convert {\n",
              "      background-color: #3B4455;\n",
              "      fill: #D2E3FC;\n",
              "    }\n",
              "\n",
              "    [theme=dark] .colab-df-convert:hover {\n",
              "      background-color: #434B5C;\n",
              "      box-shadow: 0px 1px 3px 1px rgba(0, 0, 0, 0.15);\n",
              "      filter: drop-shadow(0px 1px 2px rgba(0, 0, 0, 0.3));\n",
              "      fill: #FFFFFF;\n",
              "    }\n",
              "  </style>\n",
              "\n",
              "      <script>\n",
              "        const buttonEl =\n",
              "          document.querySelector('#df-6335cc9e-4a62-40f4-8601-bc713df2d911 button.colab-df-convert');\n",
              "        buttonEl.style.display =\n",
              "          google.colab.kernel.accessAllowed ? 'block' : 'none';\n",
              "\n",
              "        async function convertToInteractive(key) {\n",
              "          const element = document.querySelector('#df-6335cc9e-4a62-40f4-8601-bc713df2d911');\n",
              "          const dataTable =\n",
              "            await google.colab.kernel.invokeFunction('convertToInteractive',\n",
              "                                                     [key], {});\n",
              "          if (!dataTable) return;\n",
              "\n",
              "          const docLinkHtml = 'Like what you see? Visit the ' +\n",
              "            '<a target=\"_blank\" href=https://colab.research.google.com/notebooks/data_table.ipynb>data table notebook</a>'\n",
              "            + ' to learn more about interactive tables.';\n",
              "          element.innerHTML = '';\n",
              "          dataTable['output_type'] = 'display_data';\n",
              "          await google.colab.output.renderOutput(dataTable, element);\n",
              "          const docLink = document.createElement('div');\n",
              "          docLink.innerHTML = docLinkHtml;\n",
              "          element.appendChild(docLink);\n",
              "        }\n",
              "      </script>\n",
              "    </div>\n",
              "  </div>\n",
              "  "
            ]
          },
          "metadata": {},
          "execution_count": 112
        }
      ],
      "source": [
        "input_df.head()"
      ]
    },
    {
      "cell_type": "markdown",
      "id": "788e7008",
      "metadata": {
        "id": "788e7008"
      },
      "source": [
        "In the input file, the values of data for all the fields are all in the column \"value\" and the marking of which variables the entries belong in are in the column \"variables\".\n",
        "\n",
        "We need to transform the data so that we have the same number of columns as the number of variables there are, and each column contains values of each variable, as this is the shape that it needs to be in to do analysis and regression on easily.\n",
        "\n",
        "Before we do so, we need to define the schema of the name and datatype we want to assign to the variables.\n",
        "\n",
        "\n",
        "Here are the data labels for the original inputs:\n",
        "\n",
        "    i - mother's IQ as float\n",
        "    \n",
        "    a - mother's age at child's birth as integer\n",
        "    \n",
        "    h - indicator showing whether mother completed high school (1=True, 0=False) as integer\n",
        "    \n",
        "    w1 - mother did not work in first three years of child’s life as integer\n",
        "    \n",
        "    w2- mother worked in second or third year of child’s life as integer\n",
        "    \n",
        "    w3- mother worked part-time in first year of child’s life as integer\n",
        "    \n",
        "    w4- mother worked full-time in first year of child’s life as integer\n",
        "    \n",
        "    score - child's IQ (regressand) as integer\n",
        "    \n",
        "Here is how I choose the variable types and the names of the variables to be descriptive of the data:\n",
        "\n",
        "    i -> IQ         (float)\n",
        "    a -> age        (integer)\n",
        "    h -> education  (integer)\n",
        "    w -> work       (integer)\n",
        "    score -> score  (float)\n",
        "\n",
        "We know we will be performing linear regression for this exercise. The education variable `h` is binary, and thus should be cast as an integer to be usable as a feature for the models. Similarly, the work variable `w` is categorical, and should be flattened into four binary dummy variables `w1`, `w2`, `w3`, and `w4` before being used as features for linear regression. For now, I will also keep the original variable `w` for observation.\n",
        "\n",
        "Now that we have decided on a schema, I will first isolate each variable into its own pandas series:"
      ]
    },
    {
      "cell_type": "code",
      "execution_count": 113,
      "id": "31733f90",
      "metadata": {
        "id": "31733f90"
      },
      "outputs": [],
      "source": [
        "score = input_df.loc[input_df['variable'] =='score']['value'].astype('int')\n",
        "a = input_df.loc[input_df['variable'] =='a']['value'].astype('int')\n",
        "h = input_df.loc[input_df['variable'] =='h']['value'].astype('int')\n",
        "w = input_df.loc[input_df['variable'] =='w']['value'].astype('int')\n",
        "i = input_df.loc[input_df['variable'] =='i']['value'].str.replace(\"'\",\"\").astype('float')"
      ]
    },
    {
      "cell_type": "markdown",
      "source": [
        "Next we create a dataframe and put all the variable columns in it."
      ],
      "metadata": {
        "id": "JaAATwvgUMgB"
      },
      "id": "JaAATwvgUMgB"
    },
    {
      "cell_type": "code",
      "execution_count": 114,
      "id": "36eca709",
      "metadata": {
        "id": "36eca709"
      },
      "outputs": [],
      "source": [
        "df = pd.DataFrame()\n",
        "\n",
        "df['score'] = score.values\n",
        "df['IQ'] = i.values\n",
        "df['age'] = a.values\n",
        "df['education'] = h.values\n",
        "df['work'] = w.values"
      ]
    },
    {
      "cell_type": "markdown",
      "source": [
        "And this is what our working dataframe looks like:"
      ],
      "metadata": {
        "id": "ALMM8pIwUV15"
      },
      "id": "ALMM8pIwUV15"
    },
    {
      "cell_type": "code",
      "execution_count": 115,
      "id": "35493f14",
      "metadata": {
        "colab": {
          "base_uri": "https://localhost:8080/",
          "height": 206
        },
        "id": "35493f14",
        "outputId": "409409ea-6046-4cbf-d31b-fb476c4cef6a"
      },
      "outputs": [
        {
          "output_type": "execute_result",
          "data": {
            "text/plain": [
              "   score          IQ  age  education  work\n",
              "0     65  121.117529   27          1     4\n",
              "1     98   89.361882   25          1     4\n",
              "2     85  115.443165   27          1     4\n",
              "3     83   99.449639   25          1     3\n",
              "4    115   92.745710   27          1     4"
            ],
            "text/html": [
              "\n",
              "  <div id=\"df-c85d10e0-2581-4e3a-bf43-06637e565d63\">\n",
              "    <div class=\"colab-df-container\">\n",
              "      <div>\n",
              "<style scoped>\n",
              "    .dataframe tbody tr th:only-of-type {\n",
              "        vertical-align: middle;\n",
              "    }\n",
              "\n",
              "    .dataframe tbody tr th {\n",
              "        vertical-align: top;\n",
              "    }\n",
              "\n",
              "    .dataframe thead th {\n",
              "        text-align: right;\n",
              "    }\n",
              "</style>\n",
              "<table border=\"1\" class=\"dataframe\">\n",
              "  <thead>\n",
              "    <tr style=\"text-align: right;\">\n",
              "      <th></th>\n",
              "      <th>score</th>\n",
              "      <th>IQ</th>\n",
              "      <th>age</th>\n",
              "      <th>education</th>\n",
              "      <th>work</th>\n",
              "    </tr>\n",
              "  </thead>\n",
              "  <tbody>\n",
              "    <tr>\n",
              "      <th>0</th>\n",
              "      <td>65</td>\n",
              "      <td>121.117529</td>\n",
              "      <td>27</td>\n",
              "      <td>1</td>\n",
              "      <td>4</td>\n",
              "    </tr>\n",
              "    <tr>\n",
              "      <th>1</th>\n",
              "      <td>98</td>\n",
              "      <td>89.361882</td>\n",
              "      <td>25</td>\n",
              "      <td>1</td>\n",
              "      <td>4</td>\n",
              "    </tr>\n",
              "    <tr>\n",
              "      <th>2</th>\n",
              "      <td>85</td>\n",
              "      <td>115.443165</td>\n",
              "      <td>27</td>\n",
              "      <td>1</td>\n",
              "      <td>4</td>\n",
              "    </tr>\n",
              "    <tr>\n",
              "      <th>3</th>\n",
              "      <td>83</td>\n",
              "      <td>99.449639</td>\n",
              "      <td>25</td>\n",
              "      <td>1</td>\n",
              "      <td>3</td>\n",
              "    </tr>\n",
              "    <tr>\n",
              "      <th>4</th>\n",
              "      <td>115</td>\n",
              "      <td>92.745710</td>\n",
              "      <td>27</td>\n",
              "      <td>1</td>\n",
              "      <td>4</td>\n",
              "    </tr>\n",
              "  </tbody>\n",
              "</table>\n",
              "</div>\n",
              "      <button class=\"colab-df-convert\" onclick=\"convertToInteractive('df-c85d10e0-2581-4e3a-bf43-06637e565d63')\"\n",
              "              title=\"Convert this dataframe to an interactive table.\"\n",
              "              style=\"display:none;\">\n",
              "        \n",
              "  <svg xmlns=\"http://www.w3.org/2000/svg\" height=\"24px\"viewBox=\"0 0 24 24\"\n",
              "       width=\"24px\">\n",
              "    <path d=\"M0 0h24v24H0V0z\" fill=\"none\"/>\n",
              "    <path d=\"M18.56 5.44l.94 2.06.94-2.06 2.06-.94-2.06-.94-.94-2.06-.94 2.06-2.06.94zm-11 1L8.5 8.5l.94-2.06 2.06-.94-2.06-.94L8.5 2.5l-.94 2.06-2.06.94zm10 10l.94 2.06.94-2.06 2.06-.94-2.06-.94-.94-2.06-.94 2.06-2.06.94z\"/><path d=\"M17.41 7.96l-1.37-1.37c-.4-.4-.92-.59-1.43-.59-.52 0-1.04.2-1.43.59L10.3 9.45l-7.72 7.72c-.78.78-.78 2.05 0 2.83L4 21.41c.39.39.9.59 1.41.59.51 0 1.02-.2 1.41-.59l7.78-7.78 2.81-2.81c.8-.78.8-2.07 0-2.86zM5.41 20L4 18.59l7.72-7.72 1.47 1.35L5.41 20z\"/>\n",
              "  </svg>\n",
              "      </button>\n",
              "      \n",
              "  <style>\n",
              "    .colab-df-container {\n",
              "      display:flex;\n",
              "      flex-wrap:wrap;\n",
              "      gap: 12px;\n",
              "    }\n",
              "\n",
              "    .colab-df-convert {\n",
              "      background-color: #E8F0FE;\n",
              "      border: none;\n",
              "      border-radius: 50%;\n",
              "      cursor: pointer;\n",
              "      display: none;\n",
              "      fill: #1967D2;\n",
              "      height: 32px;\n",
              "      padding: 0 0 0 0;\n",
              "      width: 32px;\n",
              "    }\n",
              "\n",
              "    .colab-df-convert:hover {\n",
              "      background-color: #E2EBFA;\n",
              "      box-shadow: 0px 1px 2px rgba(60, 64, 67, 0.3), 0px 1px 3px 1px rgba(60, 64, 67, 0.15);\n",
              "      fill: #174EA6;\n",
              "    }\n",
              "\n",
              "    [theme=dark] .colab-df-convert {\n",
              "      background-color: #3B4455;\n",
              "      fill: #D2E3FC;\n",
              "    }\n",
              "\n",
              "    [theme=dark] .colab-df-convert:hover {\n",
              "      background-color: #434B5C;\n",
              "      box-shadow: 0px 1px 3px 1px rgba(0, 0, 0, 0.15);\n",
              "      filter: drop-shadow(0px 1px 2px rgba(0, 0, 0, 0.3));\n",
              "      fill: #FFFFFF;\n",
              "    }\n",
              "  </style>\n",
              "\n",
              "      <script>\n",
              "        const buttonEl =\n",
              "          document.querySelector('#df-c85d10e0-2581-4e3a-bf43-06637e565d63 button.colab-df-convert');\n",
              "        buttonEl.style.display =\n",
              "          google.colab.kernel.accessAllowed ? 'block' : 'none';\n",
              "\n",
              "        async function convertToInteractive(key) {\n",
              "          const element = document.querySelector('#df-c85d10e0-2581-4e3a-bf43-06637e565d63');\n",
              "          const dataTable =\n",
              "            await google.colab.kernel.invokeFunction('convertToInteractive',\n",
              "                                                     [key], {});\n",
              "          if (!dataTable) return;\n",
              "\n",
              "          const docLinkHtml = 'Like what you see? Visit the ' +\n",
              "            '<a target=\"_blank\" href=https://colab.research.google.com/notebooks/data_table.ipynb>data table notebook</a>'\n",
              "            + ' to learn more about interactive tables.';\n",
              "          element.innerHTML = '';\n",
              "          dataTable['output_type'] = 'display_data';\n",
              "          await google.colab.output.renderOutput(dataTable, element);\n",
              "          const docLink = document.createElement('div');\n",
              "          docLink.innerHTML = docLinkHtml;\n",
              "          element.appendChild(docLink);\n",
              "        }\n",
              "      </script>\n",
              "    </div>\n",
              "  </div>\n",
              "  "
            ]
          },
          "metadata": {},
          "execution_count": 115
        }
      ],
      "source": [
        "df.head()"
      ]
    },
    {
      "cell_type": "markdown",
      "id": "c1a691cb",
      "metadata": {
        "id": "c1a691cb"
      },
      "source": [
        "<a id=\"anly\"></a>\n",
        "# Exploratory Data Analysis\n",
        "The first step to building a model is to look at what information we can gather from the data. This section shows us what the data look like visually and what we can observe by looking at them.\n",
        "\n",
        "<a id=\"vard\"></a>\n",
        "## Variable Distribution\n",
        "Let us first look at the distribution of each variable."
      ]
    },
    {
      "cell_type": "code",
      "execution_count": 116,
      "id": "6166633e",
      "metadata": {
        "scrolled": true,
        "colab": {
          "base_uri": "https://localhost:8080/",
          "height": 313
        },
        "id": "6166633e",
        "outputId": "7b063444-3391-4bd5-86cb-ff8790bb734f"
      },
      "outputs": [
        {
          "output_type": "stream",
          "name": "stdout",
          "text": [
            "Mean of child's IQ:  86.79723502304148\n"
          ]
        },
        {
          "output_type": "display_data",
          "data": {
            "text/plain": [
              "<Figure size 432x288 with 1 Axes>"
            ],
            "image/png": "[encoded data removed]"
          },
          "metadata": {
            "needs_background": "light"
          }
        }
      ],
      "source": [
        "plt.title('Histogram of Child IQ')\n",
        "plt.xlabel('IQ score')\n",
        "plt.ylabel('count')\n",
        "df.score.hist(bins=100)\n",
        "print(\"Mean of child's IQ: \",df.score.mean())"
      ]
    },
    {
      "cell_type": "markdown",
      "id": "9007c914",
      "metadata": {
        "id": "9007c914"
      },
      "source": [
        "*Most of the children's test score revolve around 87, with fat tail at the lower end.*"
      ]
    },
    {
      "cell_type": "code",
      "execution_count": 117,
      "id": "d112efb2",
      "metadata": {
        "colab": {
          "base_uri": "https://localhost:8080/",
          "height": 313
        },
        "id": "d112efb2",
        "outputId": "607fabe4-45e3-466d-891e-7ed353c5ef57"
      },
      "outputs": [
        {
          "output_type": "stream",
          "name": "stdout",
          "text": [
            "Mean of mother's IQ:  99.99999999999999\n"
          ]
        },
        {
          "output_type": "display_data",
          "data": {
            "text/plain": [
              "<Figure size 432x288 with 1 Axes>"
            ],
            "image/png": "[encoded data removed]"
          },
          "metadata": {
            "needs_background": "light"
          }
        }
      ],
      "source": [
        "plt.title(\"Histogram of Mother's IQ\")\n",
        "plt.xlabel('IQ score')\n",
        "plt.ylabel('count')\n",
        "\n",
        "df.IQ.hist(bins=100)\n",
        "print(\"Mean of mother's IQ: \",df.IQ.mean())"
      ]
    },
    {
      "cell_type": "markdown",
      "id": "7a83e4db",
      "metadata": {
        "id": "7a83e4db"
      },
      "source": [
        "*Mothers' IQ somewhat congregate around 100, with fat tail on the higher end.*"
      ]
    },
    {
      "cell_type": "code",
      "execution_count": 118,
      "id": "c9a80722",
      "metadata": {
        "colab": {
          "base_uri": "https://localhost:8080/",
          "height": 313
        },
        "id": "c9a80722",
        "outputId": "43826db9-5680-4375-c6b4-934f022f5ec8"
      },
      "outputs": [
        {
          "output_type": "stream",
          "name": "stdout",
          "text": [
            "Mean of mother's age:  22.785714285714285\n"
          ]
        },
        {
          "output_type": "display_data",
          "data": {
            "text/plain": [
              "<Figure size 432x288 with 1 Axes>"
            ],
            "image/png": "[encoded data removed]"
          },
          "metadata": {
            "needs_background": "light"
          }
        }
      ],
      "source": [
        "plt.title(\"Histogram of Mother's Age\")\n",
        "plt.xlabel('age')\n",
        "plt.ylabel('count')\n",
        "\n",
        "df.age.hist(bins=20)\n",
        "print(\"Mean of mother's age: \",df.age.mean())"
      ]
    },
    {
      "cell_type": "markdown",
      "id": "068ab06b",
      "metadata": {
        "id": "068ab06b"
      },
      "source": [
        "*Mother's age slightly congregate around 23, the distribution look mostly normal.*"
      ]
    },
    {
      "cell_type": "code",
      "execution_count": 119,
      "id": "60e825f6",
      "metadata": {
        "colab": {
          "base_uri": "https://localhost:8080/",
          "height": 314
        },
        "id": "60e825f6",
        "outputId": "c0d35ec2-4e58-4d32-bf2f-91a50aad6c83"
      },
      "outputs": [
        {
          "output_type": "execute_result",
          "data": {
            "text/plain": [
              "<matplotlib.axes._subplots.AxesSubplot at 0x7fd269ad2820>"
            ]
          },
          "metadata": {},
          "execution_count": 119
        },
        {
          "output_type": "display_data",
          "data": {
            "text/plain": [
              "<Figure size 432x288 with 1 Axes>"
            ],
            "image/png": "[encoded data removed]"
          },
          "metadata": {
            "needs_background": "light"
          }
        }
      ],
      "source": [
        "plt.title(\"Histogram of Whether Mother Went to High School\")\n",
        "plt.xlabel('high school? (no|yes)')\n",
        "plt.ylabel('count')\n",
        "\n",
        "df.education.hist(bins=2)"
      ]
    },
    {
      "cell_type": "markdown",
      "id": "9a22f677",
      "metadata": {
        "id": "9a22f677"
      },
      "source": [
        "*There are about 22% of mothers who did not complete high school and the rest did.*"
      ]
    },
    {
      "cell_type": "code",
      "execution_count": 120,
      "id": "117512c3",
      "metadata": {
        "colab": {
          "base_uri": "https://localhost:8080/",
          "height": 313
        },
        "id": "117512c3",
        "outputId": "eb12fd79-7b4b-4cef-87ef-48912cc95010"
      },
      "outputs": [
        {
          "output_type": "execute_result",
          "data": {
            "text/plain": [
              "<matplotlib.axes._subplots.AxesSubplot at 0x7fd269a261c0>"
            ]
          },
          "metadata": {},
          "execution_count": 120
        },
        {
          "output_type": "display_data",
          "data": {
            "text/plain": [
              "<Figure size 432x288 with 1 Axes>"
            ],
            "image/png": "[encoded data removed]"
          },
          "metadata": {
            "needs_background": "light"
          }
        }
      ],
      "source": [
        "plt.title('Histogram of When Mother Started Working After Child Birth')\n",
        "plt.xlabel('1: after three years 2: after one year 3: within one year part-time 4: within one year full-time')\n",
        "plt.ylabel('count')\n",
        "df.work.hist(bins=4)"
      ]
    },
    {
      "cell_type": "markdown",
      "id": "71419a15",
      "metadata": {
        "id": "71419a15"
      },
      "source": [
        "*Mothers worked full-time in the first year of child's life the most.*"
      ]
    },
    {
      "cell_type": "markdown",
      "id": "a0a05703",
      "metadata": {
        "id": "a0a05703"
      },
      "source": [
        "<a id=\"varr\"></a>\n",
        "## Predictor and Response Variable Relation\n",
        "\n",
        "Now let's look at how the response variable moves with each predictor."
      ]
    },
    {
      "cell_type": "code",
      "execution_count": 121,
      "id": "3b9a892b",
      "metadata": {
        "colab": {
          "base_uri": "https://localhost:8080/",
          "height": 313
        },
        "id": "3b9a892b",
        "outputId": "5891fd9c-c306-4eeb-bd1e-05e3763ddc46"
      },
      "outputs": [
        {
          "output_type": "execute_result",
          "data": {
            "text/plain": [
              "<matplotlib.collections.PathCollection at 0x7fd26a336190>"
            ]
          },
          "metadata": {},
          "execution_count": 121
        },
        {
          "output_type": "display_data",
          "data": {
            "text/plain": [
              "<Figure size 432x288 with 1 Axes>"
            ],
            "image/png": "[encoded data removed]"
          },
          "metadata": {
            "needs_background": "light"
          }
        }
      ],
      "source": [
        "plt.title(\"Scatter Plot of Mother's IQ vs Child's IQ\")\n",
        "plt.xlabel(\"mother's IQ\")\n",
        "plt.ylabel(\"child's IQ\")\n",
        "\n",
        "plt.scatter(df['IQ'],df['score'])"
      ]
    },
    {
      "cell_type": "markdown",
      "source": [
        "Looks like there might be a *slight upward trend between mother's IQ score and the child's IQ score*, but the relationship is only mildly clear from the graph."
      ],
      "metadata": {
        "id": "OUzZzhuTWJoT"
      },
      "id": "OUzZzhuTWJoT"
    },
    {
      "cell_type": "code",
      "execution_count": 122,
      "id": "e403b09d",
      "metadata": {
        "colab": {
          "base_uri": "https://localhost:8080/",
          "height": 313
        },
        "id": "e403b09d",
        "outputId": "ec21ccd1-fa6e-4dbb-8d6b-1c12b9990d00"
      },
      "outputs": [
        {
          "output_type": "execute_result",
          "data": {
            "text/plain": [
              "<matplotlib.collections.PathCollection at 0x7fd269bdd460>"
            ]
          },
          "metadata": {},
          "execution_count": 122
        },
        {
          "output_type": "display_data",
          "data": {
            "text/plain": [
              "<Figure size 432x288 with 1 Axes>"
            ],
            "image/png": "[encoded data removed]"
          },
          "metadata": {
            "needs_background": "light"
          }
        }
      ],
      "source": [
        "plt.title(\"Scatter Plot of Mother's Age vs Child's IQ\")\n",
        "plt.xlabel(\"mother's age\")\n",
        "plt.ylabel(\"child's IQ\")\n",
        "plt.scatter(df['age'],df['score'])"
      ]
    },
    {
      "cell_type": "markdown",
      "source": [
        "There does not appear to be an apparent relationship between mother's age and the child's IQ, or perhaps it is hard to see because we have less samples on both tail ends of the mother's age."
      ],
      "metadata": {
        "id": "1bMEjlBfWqcE"
      },
      "id": "1bMEjlBfWqcE"
    },
    {
      "cell_type": "code",
      "execution_count": 123,
      "id": "a3197bad",
      "metadata": {
        "colab": {
          "base_uri": "https://localhost:8080/",
          "height": 313
        },
        "id": "a3197bad",
        "outputId": "cc2267f6-a0d3-4dc1-9433-a39d7ef71e8d"
      },
      "outputs": [
        {
          "output_type": "execute_result",
          "data": {
            "text/plain": [
              "<matplotlib.collections.PathCollection at 0x7fd269c3d7f0>"
            ]
          },
          "metadata": {},
          "execution_count": 123
        },
        {
          "output_type": "display_data",
          "data": {
            "text/plain": [
              "<Figure size 432x288 with 1 Axes>"
            ],
            "image/png": "[encoded data removed]"
          },
          "metadata": {
            "needs_background": "light"
          }
        }
      ],
      "source": [
        "plt.title(\"Scatter Plot of Whether Mother Went to High School vs Child's IQ\")\n",
        "plt.xlabel(\"whether mother went to high school (y/n)\")\n",
        "plt.ylabel(\"child's IQ\")\n",
        "plt.scatter(df['education'],df['score'])"
      ]
    },
    {
      "cell_type": "markdown",
      "source": [
        "Looks like *most of the children with very high IQ (above 118) have mothers who went to high school*. In the more common ranges of IQ, mother's IQ doesn't appear to be very significant."
      ],
      "metadata": {
        "id": "UQIzM4a2XGx7"
      },
      "id": "UQIzM4a2XGx7"
    },
    {
      "cell_type": "code",
      "execution_count": 124,
      "id": "4792be1e",
      "metadata": {
        "colab": {
          "base_uri": "https://localhost:8080/",
          "height": 313
        },
        "id": "4792be1e",
        "outputId": "b93320f0-b5eb-4643-f825-91cdb43848a0"
      },
      "outputs": [
        {
          "output_type": "execute_result",
          "data": {
            "text/plain": [
              "<matplotlib.collections.PathCollection at 0x7fd26a426190>"
            ]
          },
          "metadata": {},
          "execution_count": 124
        },
        {
          "output_type": "display_data",
          "data": {
            "text/plain": [
              "<Figure size 432x288 with 1 Axes>"
            ],
            "image/png": "[encoded data removed]"
          },
          "metadata": {
            "needs_background": "light"
          }
        }
      ],
      "source": [
        "plt.title(\"Scatter Plot of When Mother Started Working vs Child's IQ\")\n",
        "plt.xlabel(\"1: after three years 2: after one year 3: within one year part-time 4: within one year full-time\")\n",
        "plt.ylabel(\"child's IQ\")\n",
        "plt.scatter(df['work'],df['score'])"
      ]
    },
    {
      "cell_type": "markdown",
      "source": [
        "From the more common range of child's IQ, we do not see significance of when mother started working from the plot, and we cannot make any conclusions outside of that range because of the lack of data."
      ],
      "metadata": {
        "id": "UQ3-V-LuZ6SM"
      },
      "id": "UQ3-V-LuZ6SM"
    },
    {
      "cell_type": "markdown",
      "id": "94a51d19",
      "metadata": {
        "id": "94a51d19"
      },
      "source": [
        "<a id=\"varc\"></a>\n",
        "## Variable Correlation\n",
        "Let's now see the correlation between the possible features and the result variable `score` to see how closely all the variables follow each other.\n",
        "\n",
        "In this heatmap, the more blue the color means the stronger positive correlation, and the more yellow the color means the stronger negative correlation. The blocks closer to green suggests the least correlation."
      ]
    },
    {
      "cell_type": "code",
      "execution_count": 125,
      "id": "f62d642d",
      "metadata": {
        "colab": {
          "base_uri": "https://localhost:8080/",
          "height": 458
        },
        "id": "f62d642d",
        "outputId": "e072dd59-24b9-4e31-e211-9f7057ef26ef"
      },
      "outputs": [
        {
          "output_type": "display_data",
          "data": {
            "text/plain": [
              "<Figure size 432x288 with 2 Axes>"
            ],
            "image/png": "[encoded data removed]"
          },
          "metadata": {
            "needs_background": "light"
          }
        },
        {
          "output_type": "execute_result",
          "data": {
            "text/plain": [
              "              score        IQ       age  education      work\n",
              "score      1.000000  0.448276  0.091998   0.236916  0.087528\n",
              "IQ         0.448276  1.000000  0.091608   0.282709  0.114803\n",
              "age        0.091998  0.091608  1.000000   0.214528  0.135598\n",
              "education  0.236916  0.282709  0.214528   1.000000  0.253910\n",
              "work       0.087528  0.114803  0.135598   0.253910  1.000000"
            ],
            "text/html": [
              "\n",
              "  <div id=\"df-343293e0-210f-4923-9b2d-437a04aedc61\">\n",
              "    <div class=\"colab-df-container\">\n",
              "      <div>\n",
              "<style scoped>\n",
              "    .dataframe tbody tr th:only-of-type {\n",
              "        vertical-align: middle;\n",
              "    }\n",
              "\n",
              "    .dataframe tbody tr th {\n",
              "        vertical-align: top;\n",
              "    }\n",
              "\n",
              "    .dataframe thead th {\n",
              "        text-align: right;\n",
              "    }\n",
              "</style>\n",
              "<table border=\"1\" class=\"dataframe\">\n",
              "  <thead>\n",
              "    <tr style=\"text-align: right;\">\n",
              "      <th></th>\n",
              "      <th>score</th>\n",
              "      <th>IQ</th>\n",
              "      <th>age</th>\n",
              "      <th>education</th>\n",
              "      <th>work</th>\n",
              "    </tr>\n",
              "  </thead>\n",
              "  <tbody>\n",
              "    <tr>\n",
              "      <th>score</th>\n",
              "      <td>1.000000</td>\n",
              "      <td>0.448276</td>\n",
              "      <td>0.091998</td>\n",
              "      <td>0.236916</td>\n",
              "      <td>0.087528</td>\n",
              "    </tr>\n",
              "    <tr>\n",
              "      <th>IQ</th>\n",
              "      <td>0.448276</td>\n",
              "      <td>1.000000</td>\n",
              "      <td>0.091608</td>\n",
              "      <td>0.282709</td>\n",
              "      <td>0.114803</td>\n",
              "    </tr>\n",
              "    <tr>\n",
              "      <th>age</th>\n",
              "      <td>0.091998</td>\n",
              "      <td>0.091608</td>\n",
              "      <td>1.000000</td>\n",
              "      <td>0.214528</td>\n",
              "      <td>0.135598</td>\n",
              "    </tr>\n",
              "    <tr>\n",
              "      <th>education</th>\n",
              "      <td>0.236916</td>\n",
              "      <td>0.282709</td>\n",
              "      <td>0.214528</td>\n",
              "      <td>1.000000</td>\n",
              "      <td>0.253910</td>\n",
              "    </tr>\n",
              "    <tr>\n",
              "      <th>work</th>\n",
              "      <td>0.087528</td>\n",
              "      <td>0.114803</td>\n",
              "      <td>0.135598</td>\n",
              "      <td>0.253910</td>\n",
              "      <td>1.000000</td>\n",
              "    </tr>\n",
              "  </tbody>\n",
              "</table>\n",
              "</div>\n",
              "      <button class=\"colab-df-convert\" onclick=\"convertToInteractive('df-343293e0-210f-4923-9b2d-437a04aedc61')\"\n",
              "              title=\"Convert this dataframe to an interactive table.\"\n",
              "              style=\"display:none;\">\n",
              "        \n",
              "  <svg xmlns=\"http://www.w3.org/2000/svg\" height=\"24px\"viewBox=\"0 0 24 24\"\n",
              "       width=\"24px\">\n",
              "    <path d=\"M0 0h24v24H0V0z\" fill=\"none\"/>\n",
              "    <path d=\"M18.56 5.44l.94 2.06.94-2.06 2.06-.94-2.06-.94-.94-2.06-.94 2.06-2.06.94zm-11 1L8.5 8.5l.94-2.06 2.06-.94-2.06-.94L8.5 2.5l-.94 2.06-2.06.94zm10 10l.94 2.06.94-2.06 2.06-.94-2.06-.94-.94-2.06-.94 2.06-2.06.94z\"/><path d=\"M17.41 7.96l-1.37-1.37c-.4-.4-.92-.59-1.43-.59-.52 0-1.04.2-1.43.59L10.3 9.45l-7.72 7.72c-.78.78-.78 2.05 0 2.83L4 21.41c.39.39.9.59 1.41.59.51 0 1.02-.2 1.41-.59l7.78-7.78 2.81-2.81c.8-.78.8-2.07 0-2.86zM5.41 20L4 18.59l7.72-7.72 1.47 1.35L5.41 20z\"/>\n",
              "  </svg>\n",
              "      </button>\n",
              "      \n",
              "  <style>\n",
              "    .colab-df-container {\n",
              "      display:flex;\n",
              "      flex-wrap:wrap;\n",
              "      gap: 12px;\n",
              "    }\n",
              "\n",
              "    .colab-df-convert {\n",
              "      background-color: #E8F0FE;\n",
              "      border: none;\n",
              "      border-radius: 50%;\n",
              "      cursor: pointer;\n",
              "      display: none;\n",
              "      fill: #1967D2;\n",
              "      height: 32px;\n",
              "      padding: 0 0 0 0;\n",
              "      width: 32px;\n",
              "    }\n",
              "\n",
              "    .colab-df-convert:hover {\n",
              "      background-color: #E2EBFA;\n",
              "      box-shadow: 0px 1px 2px rgba(60, 64, 67, 0.3), 0px 1px 3px 1px rgba(60, 64, 67, 0.15);\n",
              "      fill: #174EA6;\n",
              "    }\n",
              "\n",
              "    [theme=dark] .colab-df-convert {\n",
              "      background-color: #3B4455;\n",
              "      fill: #D2E3FC;\n",
              "    }\n",
              "\n",
              "    [theme=dark] .colab-df-convert:hover {\n",
              "      background-color: #434B5C;\n",
              "      box-shadow: 0px 1px 3px 1px rgba(0, 0, 0, 0.15);\n",
              "      filter: drop-shadow(0px 1px 2px rgba(0, 0, 0, 0.3));\n",
              "      fill: #FFFFFF;\n",
              "    }\n",
              "  </style>\n",
              "\n",
              "      <script>\n",
              "        const buttonEl =\n",
              "          document.querySelector('#df-343293e0-210f-4923-9b2d-437a04aedc61 button.colab-df-convert');\n",
              "        buttonEl.style.display =\n",
              "          google.colab.kernel.accessAllowed ? 'block' : 'none';\n",
              "\n",
              "        async function convertToInteractive(key) {\n",
              "          const element = document.querySelector('#df-343293e0-210f-4923-9b2d-437a04aedc61');\n",
              "          const dataTable =\n",
              "            await google.colab.kernel.invokeFunction('convertToInteractive',\n",
              "                                                     [key], {});\n",
              "          if (!dataTable) return;\n",
              "\n",
              "          const docLinkHtml = 'Like what you see? Visit the ' +\n",
              "            '<a target=\"_blank\" href=https://colab.research.google.com/notebooks/data_table.ipynb>data table notebook</a>'\n",
              "            + ' to learn more about interactive tables.';\n",
              "          element.innerHTML = '';\n",
              "          dataTable['output_type'] = 'display_data';\n",
              "          await google.colab.output.renderOutput(dataTable, element);\n",
              "          const docLink = document.createElement('div');\n",
              "          docLink.innerHTML = docLinkHtml;\n",
              "          element.appendChild(docLink);\n",
              "        }\n",
              "      </script>\n",
              "    </div>\n",
              "  </div>\n",
              "  "
            ]
          },
          "metadata": {},
          "execution_count": 125
        }
      ],
      "source": [
        "corr = df.corr()\n",
        "ax = sns.heatmap(corr, cmap = \"YlGnBu\")\n",
        "plt.show()\n",
        "corr"
      ]
    },
    {
      "cell_type": "markdown",
      "id": "9c4b6679",
      "metadata": {
        "id": "9c4b6679"
      },
      "source": [
        "From the correlation matrix, it appears that the *mother's IQ has the most correlation to the child's IQ*. No other parameters seem to be highly correlated, which means that they are all quite independent from each other."
      ]
    },
    {
      "cell_type": "markdown",
      "id": "94956d67",
      "metadata": {
        "id": "94956d67"
      },
      "source": [
        "<a id=\"outl\"></a>\n",
        "## Outlier Analysis\n",
        "\n",
        "Before building our model, we need to remove the outlier cases. Let's take a look at the distribution of the child's test score again:"
      ]
    },
    {
      "cell_type": "code",
      "execution_count": 126,
      "id": "b1f1c869",
      "metadata": {
        "colab": {
          "base_uri": "https://localhost:8080/",
          "height": 283
        },
        "id": "b1f1c869",
        "outputId": "c6db5529-7e7c-456e-b028-108dd11a97e6"
      },
      "outputs": [
        {
          "output_type": "execute_result",
          "data": {
            "text/plain": [
              "<matplotlib.axes._subplots.AxesSubplot at 0x7fd271c91550>"
            ]
          },
          "metadata": {},
          "execution_count": 126
        },
        {
          "output_type": "display_data",
          "data": {
            "text/plain": [
              "<Figure size 432x288 with 1 Axes>"
            ],
            "image/png": "[encoded data removed]"
          },
          "metadata": {
            "needs_background": "light"
          }
        }
      ],
      "source": [
        "df.score.hist(bins=100)"
      ]
    },
    {
      "cell_type": "code",
      "execution_count": 127,
      "id": "bb169def",
      "metadata": {
        "colab": {
          "base_uri": "https://localhost:8080/"
        },
        "id": "bb169def",
        "outputId": "cf6162f0-db08-4c4f-ccf7-f55af66fe0e8"
      },
      "outputs": [
        {
          "output_type": "execute_result",
          "data": {
            "text/plain": [
              "count    434.000000\n",
              "mean      86.797235\n",
              "std       20.410688\n",
              "min       20.000000\n",
              "25%       74.000000\n",
              "50%       90.000000\n",
              "75%      102.000000\n",
              "max      144.000000\n",
              "Name: score, dtype: float64"
            ]
          },
          "metadata": {},
          "execution_count": 127
        }
      ],
      "source": [
        "df.score.describe()"
      ]
    },
    {
      "cell_type": "markdown",
      "source": [
        "As we have observed above in exploratory data analysis, it is very hard to tell the effects of the predictor from the graphs at the extreme ends of the spectrum for child's IQ score, because the sample size is so little.\n",
        "\n",
        "Therefore we should consider removing those data points because those outlier data would not be useful in determining the trend without enough neighboring data, and the outliers can possibly generate extra noise and biases in the models as well.\n",
        "\n",
        "We can decide the range in which the data points are common enough by taking the range of two standard deviations around the mean:"
      ],
      "metadata": {
        "id": "S9AJhWHye5RO"
      },
      "id": "S9AJhWHye5RO"
    },
    {
      "cell_type": "code",
      "execution_count": 128,
      "id": "cfaeb2a5",
      "metadata": {
        "colab": {
          "base_uri": "https://localhost:8080/"
        },
        "id": "cfaeb2a5",
        "outputId": "edc3a6f4-5965-4032-8774-3fe079550f88"
      },
      "outputs": [
        {
          "output_type": "stream",
          "name": "stdout",
          "text": [
            "The range of data within 2 standard deviations of the mean is  45.97585803458711  to  127.61861201149586\n"
          ]
        }
      ],
      "source": [
        "print(\"The range of data within 2 standard deviations of the mean is \",(df.score.mean()-2*df.score.std()),\" to \",(df.score.mean()+2*df.score.std()))"
      ]
    },
    {
      "cell_type": "markdown",
      "source": [
        "This is a pretty reasonable range for the child's IQ score in which we can promise with some certainty that our predictions trained using this dataset will not be out of wack, because the data within this range appears commonly enough in the dataset.\n",
        "\n",
        "Let us go ahead and remove entries that are out of this range."
      ],
      "metadata": {
        "id": "_M1KiIMEeYBK"
      },
      "id": "_M1KiIMEeYBK"
    },
    {
      "cell_type": "code",
      "execution_count": 129,
      "id": "cbb93197",
      "metadata": {
        "id": "cbb93197"
      },
      "outputs": [],
      "source": [
        "df = df[np.abs(df.score - df.score.mean()) <= (2*df.score.std())]"
      ]
    },
    {
      "cell_type": "code",
      "execution_count": 130,
      "id": "addb7c6e",
      "metadata": {
        "colab": {
          "base_uri": "https://localhost:8080/",
          "height": 283
        },
        "id": "addb7c6e",
        "outputId": "95858bbd-e78a-4310-f85c-01af7cbf1155"
      },
      "outputs": [
        {
          "output_type": "stream",
          "name": "stdout",
          "text": [
            "Now our result variable data looks like this: \n"
          ]
        },
        {
          "output_type": "display_data",
          "data": {
            "text/plain": [
              "<Figure size 432x288 with 1 Axes>"
            ],
            "image/png": "[encoded data removed]"
          },
          "metadata": {
            "needs_background": "light"
          }
        }
      ],
      "source": [
        "df.score.hist(bins=100)\n",
        "print(\"Now our result variable data looks like this: \")"
      ]
    },
    {
      "cell_type": "markdown",
      "source": [
        "As you can see, we have removed a few entries from the dataset on the tail ends of the distribution, but the vast majority of the data stays.\n",
        "\n",
        "The last thing we need to do before starting to build models is to flatten the category variables into dummy variables as I promised earlier."
      ],
      "metadata": {
        "id": "QKouY6etgCFg"
      },
      "id": "QKouY6etgCFg"
    },
    {
      "cell_type": "code",
      "execution_count": 131,
      "id": "0d3bf4ad",
      "metadata": {
        "id": "0d3bf4ad"
      },
      "outputs": [],
      "source": [
        "dummies = pd.get_dummies(df['work']).rename(columns=lambda x: 'w'+str(x))\n",
        "df = pd.concat([df, dummies], axis=1)\n",
        "df.drop(['work'], inplace=True, axis=1)"
      ]
    },
    {
      "cell_type": "markdown",
      "source": [
        "And this is what our final working dataset to perform regression on looks like:"
      ],
      "metadata": {
        "id": "1b72Pp0nuHap"
      },
      "id": "1b72Pp0nuHap"
    },
    {
      "cell_type": "code",
      "source": [
        "df.head()"
      ],
      "metadata": {
        "colab": {
          "base_uri": "https://localhost:8080/",
          "height": 206
        },
        "id": "2lEHkPrXuOnV",
        "outputId": "d2d482e2-84fc-4579-e20d-569259e32ea2"
      },
      "id": "2lEHkPrXuOnV",
      "execution_count": 132,
      "outputs": [
        {
          "output_type": "execute_result",
          "data": {
            "text/plain": [
              "   score          IQ  age  education  w1  w2  w3  w4\n",
              "0     65  121.117529   27          1   0   0   0   1\n",
              "1     98   89.361882   25          1   0   0   0   1\n",
              "2     85  115.443165   27          1   0   0   0   1\n",
              "3     83   99.449639   25          1   0   0   1   0\n",
              "4    115   92.745710   27          1   0   0   0   1"
            ],
            "text/html": [
              "\n",
              "  <div id=\"df-5e3c439f-7da4-423b-b572-3ff220be7280\">\n",
              "    <div class=\"colab-df-container\">\n",
              "      <div>\n",
              "<style scoped>\n",
              "    .dataframe tbody tr th:only-of-type {\n",
              "        vertical-align: middle;\n",
              "    }\n",
              "\n",
              "    .dataframe tbody tr th {\n",
              "        vertical-align: top;\n",
              "    }\n",
              "\n",
              "    .dataframe thead th {\n",
              "        text-align: right;\n",
              "    }\n",
              "</style>\n",
              "<table border=\"1\" class=\"dataframe\">\n",
              "  <thead>\n",
              "    <tr style=\"text-align: right;\">\n",
              "      <th></th>\n",
              "      <th>score</th>\n",
              "      <th>IQ</th>\n",
              "      <th>age</th>\n",
              "      <th>education</th>\n",
              "      <th>w1</th>\n",
              "      <th>w2</th>\n",
              "      <th>w3</th>\n",
              "      <th>w4</th>\n",
              "    </tr>\n",
              "  </thead>\n",
              "  <tbody>\n",
              "    <tr>\n",
              "      <th>0</th>\n",
              "      <td>65</td>\n",
              "      <td>121.117529</td>\n",
              "      <td>27</td>\n",
              "      <td>1</td>\n",
              "      <td>0</td>\n",
              "      <td>0</td>\n",
              "      <td>0</td>\n",
              "      <td>1</td>\n",
              "    </tr>\n",
              "    <tr>\n",
              "      <th>1</th>\n",
              "      <td>98</td>\n",
              "      <td>89.361882</td>\n",
              "      <td>25</td>\n",
              "      <td>1</td>\n",
              "      <td>0</td>\n",
              "      <td>0</td>\n",
              "      <td>0</td>\n",
              "      <td>1</td>\n",
              "    </tr>\n",
              "    <tr>\n",
              "      <th>2</th>\n",
              "      <td>85</td>\n",
              "      <td>115.443165</td>\n",
              "      <td>27</td>\n",
              "      <td>1</td>\n",
              "      <td>0</td>\n",
              "      <td>0</td>\n",
              "      <td>0</td>\n",
              "      <td>1</td>\n",
              "    </tr>\n",
              "    <tr>\n",
              "      <th>3</th>\n",
              "      <td>83</td>\n",
              "      <td>99.449639</td>\n",
              "      <td>25</td>\n",
              "      <td>1</td>\n",
              "      <td>0</td>\n",
              "      <td>0</td>\n",
              "      <td>1</td>\n",
              "      <td>0</td>\n",
              "    </tr>\n",
              "    <tr>\n",
              "      <th>4</th>\n",
              "      <td>115</td>\n",
              "      <td>92.745710</td>\n",
              "      <td>27</td>\n",
              "      <td>1</td>\n",
              "      <td>0</td>\n",
              "      <td>0</td>\n",
              "      <td>0</td>\n",
              "      <td>1</td>\n",
              "    </tr>\n",
              "  </tbody>\n",
              "</table>\n",
              "</div>\n",
              "      <button class=\"colab-df-convert\" onclick=\"convertToInteractive('df-5e3c439f-7da4-423b-b572-3ff220be7280')\"\n",
              "              title=\"Convert this dataframe to an interactive table.\"\n",
              "              style=\"display:none;\">\n",
              "        \n",
              "  <svg xmlns=\"http://www.w3.org/2000/svg\" height=\"24px\"viewBox=\"0 0 24 24\"\n",
              "       width=\"24px\">\n",
              "    <path d=\"M0 0h24v24H0V0z\" fill=\"none\"/>\n",
              "    <path d=\"M18.56 5.44l.94 2.06.94-2.06 2.06-.94-2.06-.94-.94-2.06-.94 2.06-2.06.94zm-11 1L8.5 8.5l.94-2.06 2.06-.94-2.06-.94L8.5 2.5l-.94 2.06-2.06.94zm10 10l.94 2.06.94-2.06 2.06-.94-2.06-.94-.94-2.06-.94 2.06-2.06.94z\"/><path d=\"M17.41 7.96l-1.37-1.37c-.4-.4-.92-.59-1.43-.59-.52 0-1.04.2-1.43.59L10.3 9.45l-7.72 7.72c-.78.78-.78 2.05 0 2.83L4 21.41c.39.39.9.59 1.41.59.51 0 1.02-.2 1.41-.59l7.78-7.78 2.81-2.81c.8-.78.8-2.07 0-2.86zM5.41 20L4 18.59l7.72-7.72 1.47 1.35L5.41 20z\"/>\n",
              "  </svg>\n",
              "      </button>\n",
              "      \n",
              "  <style>\n",
              "    .colab-df-container {\n",
              "      display:flex;\n",
              "      flex-wrap:wrap;\n",
              "      gap: 12px;\n",
              "    }\n",
              "\n",
              "    .colab-df-convert {\n",
              "      background-color: #E8F0FE;\n",
              "      border: none;\n",
              "      border-radius: 50%;\n",
              "      cursor: pointer;\n",
              "      display: none;\n",
              "      fill: #1967D2;\n",
              "      height: 32px;\n",
              "      padding: 0 0 0 0;\n",
              "      width: 32px;\n",
              "    }\n",
              "\n",
              "    .colab-df-convert:hover {\n",
              "      background-color: #E2EBFA;\n",
              "      box-shadow: 0px 1px 2px rgba(60, 64, 67, 0.3), 0px 1px 3px 1px rgba(60, 64, 67, 0.15);\n",
              "      fill: #174EA6;\n",
              "    }\n",
              "\n",
              "    [theme=dark] .colab-df-convert {\n",
              "      background-color: #3B4455;\n",
              "      fill: #D2E3FC;\n",
              "    }\n",
              "\n",
              "    [theme=dark] .colab-df-convert:hover {\n",
              "      background-color: #434B5C;\n",
              "      box-shadow: 0px 1px 3px 1px rgba(0, 0, 0, 0.15);\n",
              "      filter: drop-shadow(0px 1px 2px rgba(0, 0, 0, 0.3));\n",
              "      fill: #FFFFFF;\n",
              "    }\n",
              "  </style>\n",
              "\n",
              "      <script>\n",
              "        const buttonEl =\n",
              "          document.querySelector('#df-5e3c439f-7da4-423b-b572-3ff220be7280 button.colab-df-convert');\n",
              "        buttonEl.style.display =\n",
              "          google.colab.kernel.accessAllowed ? 'block' : 'none';\n",
              "\n",
              "        async function convertToInteractive(key) {\n",
              "          const element = document.querySelector('#df-5e3c439f-7da4-423b-b572-3ff220be7280');\n",
              "          const dataTable =\n",
              "            await google.colab.kernel.invokeFunction('convertToInteractive',\n",
              "                                                     [key], {});\n",
              "          if (!dataTable) return;\n",
              "\n",
              "          const docLinkHtml = 'Like what you see? Visit the ' +\n",
              "            '<a target=\"_blank\" href=https://colab.research.google.com/notebooks/data_table.ipynb>data table notebook</a>'\n",
              "            + ' to learn more about interactive tables.';\n",
              "          element.innerHTML = '';\n",
              "          dataTable['output_type'] = 'display_data';\n",
              "          await google.colab.output.renderOutput(dataTable, element);\n",
              "          const docLink = document.createElement('div');\n",
              "          docLink.innerHTML = docLinkHtml;\n",
              "          element.appendChild(docLink);\n",
              "        }\n",
              "      </script>\n",
              "    </div>\n",
              "  </div>\n",
              "  "
            ]
          },
          "metadata": {},
          "execution_count": 132
        }
      ]
    },
    {
      "cell_type": "markdown",
      "id": "f6254c5b",
      "metadata": {
        "id": "f6254c5b"
      },
      "source": [
        "<a id=\"reg\"></a>\n",
        "# Linear Regression\n",
        "In this section, we perform linear regression:\n",
        "\n",
        "- using a single predictor\n",
        "\n",
        "- using multiple predictors\n",
        "\n",
        "- using multiple predictors with an interaction term"
      ]
    },
    {
      "cell_type": "code",
      "execution_count": 133,
      "id": "74b80046",
      "metadata": {
        "id": "74b80046"
      },
      "outputs": [],
      "source": [
        "X = df[['IQ','age','education','w1','w2','w3','w4']]\n",
        "y = df['score']"
      ]
    },
    {
      "cell_type": "markdown",
      "id": "581368f7",
      "metadata": {
        "id": "581368f7"
      },
      "source": [
        "<a id=\"sinp\"></a>\n",
        "## Single Predictor\n",
        "\n",
        "The first models that we build are single predictor linear regressions that should give us some good information about the predictive power of each predictor. \n",
        "\n",
        "We take the training set of the predictors `IQ`, `age`, `education`, `w1`, `w2`, `w3`, and `w4` to regress with the result variable `score` individually and gets scores on the testing set.\n",
        "\n",
        "A seed is set for the train test split to make the R-squared scores consistent for model comparison.\n",
        "\n",
        "The scores for each regression is collected and presented as a bar graph to compare the accuracy of models using each feature."
      ]
    },
    {
      "cell_type": "code",
      "source": [
        "def LinearModel(X_lin, Y_lin):\n",
        "    X_train, X_test, y_train, y_test = train_test_split(X_lin,Y_lin, train_size = 0.8, random_state = 15)\n",
        "    \n",
        "    reg = linear_model.LinearRegression()\n",
        "    reg.fit(X_train,y_train)\n",
        "\n",
        "    prediction = reg.predict(X_test)\n",
        "    score = reg.score(X_test, y_test)\n",
        "    return score"
      ],
      "metadata": {
        "id": "vE6RKLaqVtyw"
      },
      "id": "vE6RKLaqVtyw",
      "execution_count": 134,
      "outputs": []
    },
    {
      "cell_type": "code",
      "source": [
        "vars = list(X.columns.values)\n",
        "results = []\n",
        "\n",
        "for col in X:\n",
        "  score = LinearModel(X[[col]],y)\n",
        "  results.append(score)\n",
        "\n",
        "fig = plt.figure(figsize = (10,5))\n",
        "plt.bar(vars, results)\n",
        "plt.xlabel(\"features\")\n",
        "plt.ylabel(\"accuracy score\")\n",
        "plt.title(\"Performance for Single Predictor Regression\")\n",
        "plt.show()"
      ],
      "metadata": {
        "colab": {
          "base_uri": "https://localhost:8080/",
          "height": 350
        },
        "id": "nfJMdA3IWdOG",
        "outputId": "5ef8183e-2e96-47bf-b4dc-e5f33b20dfc3"
      },
      "id": "nfJMdA3IWdOG",
      "execution_count": 135,
      "outputs": [
        {
          "output_type": "display_data",
          "data": {
            "text/plain": [
              "<Figure size 720x360 with 1 Axes>"
            ],
            "image/png": "[encoded data removed]"
          },
          "metadata": {
            "needs_background": "light"
          }
        }
      ]
    },
    {
      "cell_type": "markdown",
      "source": [
        "*Looks like single predictor model using IQ is significantly more accurate that single predictor model using other features*, and therefore we would choose this model as the best single predictor model."
      ],
      "metadata": {
        "id": "jvVEjlRWi3Lr"
      },
      "id": "jvVEjlRWi3Lr"
    },
    {
      "cell_type": "code",
      "source": [
        "LinearModel(X[['IQ']],y)"
      ],
      "metadata": {
        "colab": {
          "base_uri": "https://localhost:8080/"
        },
        "id": "09ypYbQrw9fi",
        "outputId": "7ae6a71b-cc98-483f-a533-ac255167648d"
      },
      "id": "09ypYbQrw9fi",
      "execution_count": 136,
      "outputs": [
        {
          "output_type": "execute_result",
          "data": {
            "text/plain": [
              "0.2093783598185781"
            ]
          },
          "metadata": {},
          "execution_count": 136
        }
      ]
    },
    {
      "cell_type": "markdown",
      "source": [
        "However even the best single predictor model does not perform very well, sitting at the accuracy of around 0.21.\n",
        "\n",
        "Let us see if the performance can be better when we regress with multiple predictors."
      ],
      "metadata": {
        "id": "fVPyA0r1w8NU"
      },
      "id": "fVPyA0r1w8NU"
    },
    {
      "cell_type": "markdown",
      "id": "7e7cf0f2",
      "metadata": {
        "id": "7e7cf0f2"
      },
      "source": [
        "<a id=\"mulp\"></a>\n",
        "## Multiple Predictors\n",
        "\n",
        "Before making conclusions about which features we should include to get the best model, we need to do an OLS regression of all the features to figure out which features are significant when put alongside with all other features."
      ]
    },
    {
      "cell_type": "code",
      "execution_count": 137,
      "id": "d971acde",
      "metadata": {
        "colab": {
          "base_uri": "https://localhost:8080/"
        },
        "id": "d971acde",
        "outputId": "21564848-c17b-4572-9186-493bf9eded4b"
      },
      "outputs": [
        {
          "output_type": "stream",
          "name": "stdout",
          "text": [
            "                            OLS Regression Results                            \n",
            "==============================================================================\n",
            "Dep. Variable:                  score   R-squared:                       0.174\n",
            "Model:                            OLS   Adj. R-squared:                  0.162\n",
            "Method:                 Least Squares   F-statistic:                     14.25\n",
            "Date:                Tue, 17 Jan 2023   Prob (F-statistic):           9.45e-15\n",
            "Time:                        22:22:23   Log-Likelihood:                -1738.7\n",
            "No. Observations:                 413   AIC:                             3491.\n",
            "Df Residuals:                     406   BIC:                             3520.\n",
            "Df Model:                           6                                         \n",
            "Covariance Type:            nonrobust                                         \n",
            "==============================================================================\n",
            "                 coef    std err          t      P>|t|      [0.025      0.975]\n",
            "------------------------------------------------------------------------------\n",
            "const         27.3062      6.956      3.926      0.000      13.633      40.980\n",
            "IQ             0.4598      0.057      8.035      0.000       0.347       0.572\n",
            "age            0.2604      0.309      0.842      0.400      -0.347       0.868\n",
            "education      2.6368      2.205      1.196      0.233      -1.699       6.972\n",
            "w1             4.8437      2.355      2.057      0.040       0.214       9.474\n",
            "w2             7.1749      2.117      3.389      0.001       3.013      11.337\n",
            "w3             8.8208      2.731      3.229      0.001       3.451      14.190\n",
            "w4             6.4668      2.173      2.976      0.003       2.195      10.739\n",
            "==============================================================================\n",
            "Omnibus:                        8.452   Durbin-Watson:                   1.653\n",
            "Prob(Omnibus):                  0.015   Jarque-Bera (JB):                8.533\n",
            "Skew:                          -0.327   Prob(JB):                       0.0140\n",
            "Kurtosis:                       2.741   Cond. No.                     1.88e+18\n",
            "==============================================================================\n",
            "\n",
            "Notes:\n",
            "[1] Standard Errors assume that the covariance matrix of the errors is correctly specified.\n",
            "[2] The smallest eigenvalue is 1.27e-30. This might indicate that there are\n",
            "strong multicollinearity problems or that the design matrix is singular.\n"
          ]
        }
      ],
      "source": [
        "model_all = sm.OLS(y, sm.add_constant(X)).fit()\n",
        "print(model_all.summary())"
      ]
    },
    {
      "cell_type": "markdown",
      "source": [
        "This is pretty interesting result, because during single predictor regression, `education` provides the second best result after `IQ`. \n",
        "\n",
        "However in this multiple predictor regression, `education` is the second worst feature after `age` based on the p-value, and does not even pass the two-tail test since its p-value is higher than 0.025.\n",
        "\n",
        "On the contrary, `w2`, and `w3` show statistical significance.\n",
        "\n",
        "This descrepency says that `education` works better alone, but perhaps gets 'explained away' by other variables. On the contrary, `w2` and `w3` works better alongside with other variables, suggesting their strength of interacting terms.\n",
        "\n",
        "Now we need to try to figure out;\n",
        "\n",
        "1. which term 'explains away' the effects of `education`\n",
        "\n",
        "2. which terms interact well with `w2` and `w3`\n",
        "\n",
        "Here are some sets of parameters we can try to figure out the two questions:\n",
        "\n",
        "    Question 1: which term 'explains away' the effects of education?\n",
        "\n",
        "    Model 1a: education + IQ\n",
        "\n",
        "    Model 1b: education + age\n",
        "\n",
        "    Model 1c: education + w1 + w2 + w3 + w4\n",
        "\n",
        "\n",
        "    Question 2: which terms interact well with w2 and w3?\n",
        "\n",
        "    Model 2a: w1 + w2 + w3 + w4 + IQ\n",
        "\n",
        "    Model 2b: w1 + w2 + w3 + w4 + age\n",
        "\n",
        "    Model 2c: w1 + w2 + w3 + w4 + education\n",
        "\n",
        "For Model 1c, I put all the work dummy variables together because the effects of those terms should not be separate from each other.\n",
        "\n",
        "For the second question, I will not attempt dummy variables with other dummy variables because they should not be interacting with each other at all due to the mutually exclusive relationship, and put `w2` and `w3` in the same models for the same reason."
      ],
      "metadata": {
        "id": "NdYoOlugk-Yx"
      },
      "id": "NdYoOlugk-Yx"
    },
    {
      "cell_type": "code",
      "source": [
        "model_1a = sm.OLS(y, sm.add_constant(X[['IQ','education']])).fit()\n",
        "print(model_1a.summary())\n",
        "\n",
        "model_1b = sm.OLS(y, sm.add_constant(X[['age','education']])).fit()\n",
        "print(model_1b.summary())\n",
        "\n",
        "model_1c = sm.OLS(y, sm.add_constant(X[['education','w1','w2','w3','w4']])).fit()\n",
        "print(model_1c.summary())"
      ],
      "metadata": {
        "colab": {
          "base_uri": "https://localhost:8080/"
        },
        "id": "S46W0zPbmFr6",
        "outputId": "930d2e37-0cf8-469f-d68a-ab31eacdb963"
      },
      "id": "S46W0zPbmFr6",
      "execution_count": 138,
      "outputs": [
        {
          "output_type": "stream",
          "name": "stdout",
          "text": [
            "                            OLS Regression Results                            \n",
            "==============================================================================\n",
            "Dep. Variable:                  score   R-squared:                       0.168\n",
            "Model:                            OLS   Adj. R-squared:                  0.164\n",
            "Method:                 Least Squares   F-statistic:                     41.54\n",
            "Date:                Tue, 17 Jan 2023   Prob (F-statistic):           3.73e-17\n",
            "Time:                        22:22:23   Log-Likelihood:                -1740.0\n",
            "No. Observations:                 413   AIC:                             3486.\n",
            "Df Residuals:                     410   BIC:                             3498.\n",
            "Df Model:                           2                                         \n",
            "Covariance Type:            nonrobust                                         \n",
            "==============================================================================\n",
            "                 coef    std err          t      P>|t|      [0.025      0.975]\n",
            "------------------------------------------------------------------------------\n",
            "const         38.7112      5.537      6.992      0.000      27.827      49.595\n",
            "IQ             0.4670      0.056      8.273      0.000       0.356       0.578\n",
            "education      3.2235      2.107      1.530      0.127      -0.918       7.365\n",
            "==============================================================================\n",
            "Omnibus:                        9.542   Durbin-Watson:                   1.664\n",
            "Prob(Omnibus):                  0.008   Jarque-Bera (JB):                9.663\n",
            "Skew:                          -0.350   Prob(JB):                      0.00797\n",
            "Kurtosis:                       2.733   Cond. No.                         697.\n",
            "==============================================================================\n",
            "\n",
            "Notes:\n",
            "[1] Standard Errors assume that the covariance matrix of the errors is correctly specified.\n",
            "                            OLS Regression Results                            \n",
            "==============================================================================\n",
            "Dep. Variable:                  score   R-squared:                       0.033\n",
            "Model:                            OLS   Adj. R-squared:                  0.028\n",
            "Method:                 Least Squares   F-statistic:                     6.935\n",
            "Date:                Tue, 17 Jan 2023   Prob (F-statistic):            0.00109\n",
            "Time:                        22:22:23   Log-Likelihood:                -1771.3\n",
            "No. Observations:                 413   AIC:                             3549.\n",
            "Df Residuals:                     410   BIC:                             3561.\n",
            "Df Model:                           2                                         \n",
            "Covariance Type:            nonrobust                                         \n",
            "==============================================================================\n",
            "                 coef    std err          t      P>|t|      [0.025      0.975]\n",
            "------------------------------------------------------------------------------\n",
            "const         73.8346      7.435      9.931      0.000      59.219      88.450\n",
            "age            0.3737      0.330      1.134      0.258      -0.274       1.022\n",
            "education      7.2881      2.236      3.259      0.001       2.892      11.684\n",
            "==============================================================================\n",
            "Omnibus:                       20.528   Durbin-Watson:                   1.479\n",
            "Prob(Omnibus):                  0.000   Jarque-Bera (JB):               17.650\n",
            "Skew:                          -0.432   Prob(JB):                     0.000147\n",
            "Kurtosis:                       2.470   Cond. No.                         197.\n",
            "==============================================================================\n",
            "\n",
            "Notes:\n",
            "[1] Standard Errors assume that the covariance matrix of the errors is correctly specified.\n",
            "                            OLS Regression Results                            \n",
            "==============================================================================\n",
            "Dep. Variable:                  score   R-squared:                       0.040\n",
            "Model:                            OLS   Adj. R-squared:                  0.031\n",
            "Method:                 Least Squares   F-statistic:                     4.293\n",
            "Date:                Tue, 17 Jan 2023   Prob (F-statistic):            0.00206\n",
            "Time:                        22:22:23   Log-Likelihood:                -1769.6\n",
            "No. Observations:                 413   AIC:                             3549.\n",
            "Df Residuals:                     408   BIC:                             3569.\n",
            "Df Model:                           4                                         \n",
            "Covariance Type:            nonrobust                                         \n",
            "==============================================================================\n",
            "                 coef    std err          t      P>|t|      [0.025      0.975]\n",
            "------------------------------------------------------------------------------\n",
            "const         66.1193      1.594     41.473      0.000      62.985      69.253\n",
            "education      7.3513      2.263      3.249      0.001       2.903      11.799\n",
            "w1            14.2355      1.790      7.951      0.000      10.716      17.755\n",
            "w2            15.1519      1.679      9.022      0.000      11.851      18.453\n",
            "w3            20.5815      2.046     10.061      0.000      16.560      24.603\n",
            "w4            16.1505      1.393     11.598      0.000      13.413      18.888\n",
            "==============================================================================\n",
            "Omnibus:                       19.544   Durbin-Watson:                   1.482\n",
            "Prob(Omnibus):                  0.000   Jarque-Bera (JB):               16.102\n",
            "Skew:                          -0.400   Prob(JB):                     0.000319\n",
            "Kurtosis:                       2.457   Cond. No.                     7.65e+15\n",
            "==============================================================================\n",
            "\n",
            "Notes:\n",
            "[1] Standard Errors assume that the covariance matrix of the errors is correctly specified.\n",
            "[2] The smallest eigenvalue is 1.45e-29. This might indicate that there are\n",
            "strong multicollinearity problems or that the design matrix is singular.\n"
          ]
        }
      ]
    },
    {
      "cell_type": "markdown",
      "source": [
        "*It looks pretty apparent from the three models above that `education` is explained away by `IQ`*, since that is the only model in which the p-value of `education` did not pass the significance test."
      ],
      "metadata": {
        "id": "dgxCogRzg01q"
      },
      "id": "dgxCogRzg01q"
    },
    {
      "cell_type": "code",
      "source": [
        "model_2a = sm.OLS(y, sm.add_constant(X[['IQ','w1','w2','w3','w4']])).fit()\n",
        "print(model_2a.summary())\n",
        "\n",
        "model_2b = sm.OLS(y, sm.add_constant(X[['age','w1','w2','w3','w4']])).fit()\n",
        "print(model_2b.summary())\n",
        "\n",
        "model_2c = sm.OLS(y, sm.add_constant(X[['education','w1','w2','w3','w4']])).fit()\n",
        "print(model_2c.summary())"
      ],
      "metadata": {
        "colab": {
          "base_uri": "https://localhost:8080/"
        },
        "id": "1zurSOLufWxe",
        "outputId": "96bd9618-8d07-4d26-ca9b-59089fd21ae5"
      },
      "id": "1zurSOLufWxe",
      "execution_count": 139,
      "outputs": [
        {
          "output_type": "stream",
          "name": "stdout",
          "text": [
            "                            OLS Regression Results                            \n",
            "==============================================================================\n",
            "Dep. Variable:                  score   R-squared:                       0.169\n",
            "Model:                            OLS   Adj. R-squared:                  0.161\n",
            "Method:                 Least Squares   F-statistic:                     20.71\n",
            "Date:                Tue, 17 Jan 2023   Prob (F-statistic):           1.49e-15\n",
            "Time:                        22:22:23   Log-Likelihood:                -1740.0\n",
            "No. Observations:                 413   AIC:                             3490.\n",
            "Df Residuals:                     408   BIC:                             3510.\n",
            "Df Model:                           4                                         \n",
            "Covariance Type:            nonrobust                                         \n",
            "==============================================================================\n",
            "                 coef    std err          t      P>|t|      [0.025      0.975]\n",
            "------------------------------------------------------------------------------\n",
            "const         32.0082      4.514      7.091      0.000      23.135      40.881\n",
            "IQ             0.4805      0.055      8.671      0.000       0.372       0.589\n",
            "w1             5.5848      1.940      2.878      0.004       1.770       9.399\n",
            "w2             8.2800      1.786      4.635      0.000       4.768      11.792\n",
            "w3            10.1151      2.309      4.380      0.000       5.575      14.655\n",
            "w4             8.0284      1.647      4.873      0.000       4.790      11.267\n",
            "==============================================================================\n",
            "Omnibus:                        7.331   Durbin-Watson:                   1.656\n",
            "Prob(Omnibus):                  0.026   Jarque-Bera (JB):                7.410\n",
            "Skew:                          -0.305   Prob(JB):                       0.0246\n",
            "Kurtosis:                       2.759   Cond. No.                     2.62e+18\n",
            "==============================================================================\n",
            "\n",
            "Notes:\n",
            "[1] Standard Errors assume that the covariance matrix of the errors is correctly specified.\n",
            "[2] The smallest eigenvalue is 6.21e-31. This might indicate that there are\n",
            "strong multicollinearity problems or that the design matrix is singular.\n",
            "                            OLS Regression Results                            \n",
            "==============================================================================\n",
            "Dep. Variable:                  score   R-squared:                       0.021\n",
            "Model:                            OLS   Adj. R-squared:                  0.011\n",
            "Method:                 Least Squares   F-statistic:                     2.193\n",
            "Date:                Tue, 17 Jan 2023   Prob (F-statistic):             0.0690\n",
            "Time:                        22:22:23   Log-Likelihood:                -1773.8\n",
            "No. Observations:                 413   AIC:                             3558.\n",
            "Df Residuals:                     408   BIC:                             3578.\n",
            "Df Model:                           4                                         \n",
            "Covariance Type:            nonrobust                                         \n",
            "==============================================================================\n",
            "                 coef    std err          t      P>|t|      [0.025      0.975]\n",
            "------------------------------------------------------------------------------\n",
            "const         61.5541      6.063     10.152      0.000      49.635      73.473\n",
            "age            0.4993      0.330      1.512      0.131      -0.150       1.149\n",
            "w1            12.0519      2.302      5.236      0.000       7.527      16.577\n",
            "w2            14.3836      2.104      6.838      0.000      10.249      18.519\n",
            "w3            19.4167      2.622      7.405      0.000      14.262      24.571\n",
            "w4            15.7019      2.054      7.643      0.000      11.664      19.740\n",
            "==============================================================================\n",
            "Omnibus:                       16.963   Durbin-Watson:                   1.474\n",
            "Prob(Omnibus):                  0.000   Jarque-Bera (JB):               14.770\n",
            "Skew:                          -0.392   Prob(JB):                     0.000620\n",
            "Kurtosis:                       2.508   Cond. No.                     2.43e+17\n",
            "==============================================================================\n",
            "\n",
            "Notes:\n",
            "[1] Standard Errors assume that the covariance matrix of the errors is correctly specified.\n",
            "[2] The smallest eigenvalue is 3.71e-30. This might indicate that there are\n",
            "strong multicollinearity problems or that the design matrix is singular.\n",
            "                            OLS Regression Results                            \n",
            "==============================================================================\n",
            "Dep. Variable:                  score   R-squared:                       0.040\n",
            "Model:                            OLS   Adj. R-squared:                  0.031\n",
            "Method:                 Least Squares   F-statistic:                     4.293\n",
            "Date:                Tue, 17 Jan 2023   Prob (F-statistic):            0.00206\n",
            "Time:                        22:22:23   Log-Likelihood:                -1769.6\n",
            "No. Observations:                 413   AIC:                             3549.\n",
            "Df Residuals:                     408   BIC:                             3569.\n",
            "Df Model:                           4                                         \n",
            "Covariance Type:            nonrobust                                         \n",
            "==============================================================================\n",
            "                 coef    std err          t      P>|t|      [0.025      0.975]\n",
            "------------------------------------------------------------------------------\n",
            "const         66.1193      1.594     41.473      0.000      62.985      69.253\n",
            "education      7.3513      2.263      3.249      0.001       2.903      11.799\n",
            "w1            14.2355      1.790      7.951      0.000      10.716      17.755\n",
            "w2            15.1519      1.679      9.022      0.000      11.851      18.453\n",
            "w3            20.5815      2.046     10.061      0.000      16.560      24.603\n",
            "w4            16.1505      1.393     11.598      0.000      13.413      18.888\n",
            "==============================================================================\n",
            "Omnibus:                       19.544   Durbin-Watson:                   1.482\n",
            "Prob(Omnibus):                  0.000   Jarque-Bera (JB):               16.102\n",
            "Skew:                          -0.400   Prob(JB):                     0.000319\n",
            "Kurtosis:                       2.457   Cond. No.                     7.65e+15\n",
            "==============================================================================\n",
            "\n",
            "Notes:\n",
            "[1] Standard Errors assume that the covariance matrix of the errors is correctly specified.\n",
            "[2] The smallest eigenvalue is 1.45e-29. This might indicate that there are\n",
            "strong multicollinearity problems or that the design matrix is singular.\n"
          ]
        }
      ]
    },
    {
      "cell_type": "markdown",
      "source": [
        "Because the dummy variable only gives us 0 and 1 values, the way that we should compare models is how much performance they amplify on individual variables.\n",
        "\n",
        "The accuracy for `IQ`, `age`, and `education` as stand-alone variables are: 0.209, 0.008, and 0.058 respectively.\n",
        "\n",
        "The accuracies including the work variables are 0.169, 0.021, and 0.040. \n",
        "\n",
        "Therefore, we can conclude that *the dummy variables for `work` and `age` interact with each other exceptionally well, while the predictive power of `IQ` and `education` are slightly reduced*.\n",
        "\n",
        "Based on the conclusions we have made, we are going to exclude education because it gets explained away by `IQ` a lot, and also keep the `age` and `work` dummy variables."
      ],
      "metadata": {
        "id": "6seLZ0Nwm-Q8"
      },
      "id": "6seLZ0Nwm-Q8"
    },
    {
      "cell_type": "code",
      "source": [
        "LinearModel(X[['IQ','age','w1','w2','w3','w4']], y)"
      ],
      "metadata": {
        "colab": {
          "base_uri": "https://localhost:8080/"
        },
        "id": "_zlsOWQEk4QE",
        "outputId": "75f03af7-ea4b-46d9-c5aa-b2dbd60761b8"
      },
      "id": "_zlsOWQEk4QE",
      "execution_count": 140,
      "outputs": [
        {
          "output_type": "execute_result",
          "data": {
            "text/plain": [
              "0.22483853356178674"
            ]
          },
          "metadata": {},
          "execution_count": 140
        }
      ]
    },
    {
      "cell_type": "markdown",
      "source": [
        "Our model of choice for the multiple predictor model performs only slightly better than the single predictor model, which demonstrates how dominant the `IQ` variable is."
      ],
      "metadata": {
        "id": "cF2Wye_WxOXe"
      },
      "id": "cF2Wye_WxOXe"
    },
    {
      "cell_type": "markdown",
      "id": "daa92860",
      "metadata": {
        "id": "daa92860"
      },
      "source": [
        "<a id=\"mpi\"></a>\n",
        "## Multiple Predictors with Interaction an Term\n",
        "\n",
        "Since we have concluded above that `age` and the `work` dummy variables interaact well together, let us see which value for `work` gives the best interaction term if we have to choose one."
      ]
    },
    {
      "cell_type": "code",
      "source": [
        "X_interactions = X.copy()\n",
        "\n",
        "X_interactions['age_w1'] = X['age']*X['w1']\n",
        "X_interactions['age_w2'] = X['age']*X['w2']\n",
        "X_interactions['age_w3'] = X['age']*X['w3']\n",
        "X_interactions['age_w4'] = X['age']*X['w4']\n",
        "\n",
        "model_interactions = sm.OLS(y, sm.add_constant(X_interactions)).fit()\n",
        "print(model_interactions.summary())"
      ],
      "metadata": {
        "colab": {
          "base_uri": "https://localhost:8080/"
        },
        "id": "I87zHyZha0e6",
        "outputId": "eb7035b4-029f-4f5a-f38b-577f2240e3de"
      },
      "id": "I87zHyZha0e6",
      "execution_count": 141,
      "outputs": [
        {
          "output_type": "stream",
          "name": "stdout",
          "text": [
            "                            OLS Regression Results                            \n",
            "==============================================================================\n",
            "Dep. Variable:                  score   R-squared:                       0.184\n",
            "Model:                            OLS   Adj. R-squared:                  0.166\n",
            "Method:                 Least Squares   F-statistic:                     10.09\n",
            "Date:                Tue, 17 Jan 2023   Prob (F-statistic):           4.90e-14\n",
            "Time:                        22:22:23   Log-Likelihood:                -1736.2\n",
            "No. Observations:                 413   AIC:                             3492.\n",
            "Df Residuals:                     403   BIC:                             3533.\n",
            "Df Model:                           9                                         \n",
            "Covariance Type:            nonrobust                                         \n",
            "==============================================================================\n",
            "                 coef    std err          t      P>|t|      [0.025      0.975]\n",
            "------------------------------------------------------------------------------\n",
            "const         30.2221      7.503      4.028      0.000      15.473      44.972\n",
            "IQ             0.4587      0.057      8.027      0.000       0.346       0.571\n",
            "age            0.0729      0.279      0.261      0.794      -0.475       0.621\n",
            "education      2.7465      2.205      1.246      0.214      -1.588       7.081\n",
            "w1            30.3221     13.962      2.172      0.030       2.875      57.769\n",
            "w2            12.8336     14.068      0.912      0.362     -14.823      40.490\n",
            "w3            -6.2354     16.066     -0.388      0.698     -37.820      25.349\n",
            "w4            -6.6982     10.030     -0.668      0.505     -26.416      13.019\n",
            "age_w1        -1.0715      0.613     -1.747      0.081      -2.277       0.134\n",
            "age_w2        -0.1986      0.626     -0.317      0.751      -1.429       1.032\n",
            "age_w3         0.7111      0.689      1.032      0.302      -0.643       2.065\n",
            "age_w4         0.6319      0.430      1.469      0.143      -0.214       1.478\n",
            "==============================================================================\n",
            "Omnibus:                        6.675   Durbin-Watson:                   1.657\n",
            "Prob(Omnibus):                  0.036   Jarque-Bera (JB):                6.466\n",
            "Skew:                          -0.267   Prob(JB):                       0.0394\n",
            "Kurtosis:                       2.698   Cond. No.                     1.77e+18\n",
            "==============================================================================\n",
            "\n",
            "Notes:\n",
            "[1] Standard Errors assume that the covariance matrix of the errors is correctly specified.\n",
            "[2] The smallest eigenvalue is 1.45e-30. This might indicate that there are\n",
            "strong multicollinearity problems or that the design matrix is singular.\n"
          ]
        }
      ]
    },
    {
      "cell_type": "markdown",
      "source": [
        "The interaction terms do not look like they are working very well, because there are possible nuances between the terms.\n",
        "\n",
        "It looks like `age` is even less relavent when we add the interaction terms and the interaction terms have mixed results in terms of its significance.\n",
        "\n",
        "Because `age` is already pretty insignificant in the model with all features without any interaction terms, the effects of other variables might be dominating the behaviors of this features, making it hard to tell whether our observations are valid.\n",
        "\n",
        "Overall, all the interaction terms have proven to be insignificant. This is possibly due to age also getting explained away by when the mother starts working.\n",
        "\n",
        "Depending on what age the mothers are, how long they usually choose to start working after childbirth are different.\n",
        "\n",
        "Nontheless, the interaction term between `age` and `w1` appears to be the most significant amongst the interaction terms, let us see how it performs if we only include this interaction term."
      ],
      "metadata": {
        "id": "8yuHEk4kwJkW"
      },
      "id": "8yuHEk4kwJkW"
    },
    {
      "cell_type": "code",
      "source": [
        "X_w1 = X.copy()\n",
        "X_w1['age_w1'] = X['age']*X['w1']\n",
        "\n",
        "LinearModel(X_w1, y)"
      ],
      "metadata": {
        "colab": {
          "base_uri": "https://localhost:8080/"
        },
        "id": "EHlhiGvgyCqi",
        "outputId": "e31fe26b-d575-471b-ddf1-6ddeb0c3d28a"
      },
      "id": "EHlhiGvgyCqi",
      "execution_count": 142,
      "outputs": [
        {
          "output_type": "execute_result",
          "data": {
            "text/plain": [
              "0.22829712340315444"
            ]
          },
          "metadata": {},
          "execution_count": 142
        }
      ]
    },
    {
      "cell_type": "markdown",
      "source": [
        "Looks like including this interaction term does make a small improvement from our multiple predictor model of choice without any interaction term!\n",
        "\n",
        "I suspect that the effect of this interaction term is not very potent because the feature `IQ` is so dominating of the whole model, that we should also examine the interaction terms surroounding this variable in the future."
      ],
      "metadata": {
        "id": "FpXWRIukyUtm"
      },
      "id": "FpXWRIukyUtm"
    },
    {
      "cell_type": "markdown",
      "id": "02833c76",
      "metadata": {
        "id": "02833c76"
      },
      "source": [
        "<a id=\"sumy\"></a>\n",
        "# Summary\n",
        "\n",
        "In this notebook, we parsed and transfored the dataset, made observations about the data, and performed linear regression with single predictor, multiple predictors, and then incorperated interaction terms with multiple predicotors.\n",
        "\n",
        "We have concluded that `IQ` is the strongest stand-alone feature amongst all the features, the effect of `education` seems to be explained away by `IQ`, and that `age` can interact well `w1`.\n",
        "\n",
        "Some future work can be done to make the model for this dataset better, including exploring the effects of more interaction terms, even interaction terms with more than two variables because semantically, the features that we have seem to have some causation and effect correlations with each other. More importantly, we should consider exploring all the possibilities surrounding `IQ` because its effect dominates the model significantly."
      ]
    }
  ],
  "metadata": {
    "kernelspec": {
      "display_name": "Python 3 (ipykernel)",
      "language": "python",
      "name": "python3"
    },
    "language_info": {
      "codemirror_mode": {
        "name": "ipython",
        "version": 3
      },
      "file_extension": ".py",
      "mimetype": "text/x-python",
      "name": "python",
      "nbconvert_exporter": "python",
      "pygments_lexer": "ipython3",
      "version": "3.9.7"
    },
    "colab": {
      "provenance": []
    }
  },
  "nbformat": 4,
  "nbformat_minor": 5
}